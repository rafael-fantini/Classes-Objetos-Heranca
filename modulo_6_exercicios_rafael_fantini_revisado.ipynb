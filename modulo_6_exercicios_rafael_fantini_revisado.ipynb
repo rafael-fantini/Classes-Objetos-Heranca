{
 "cells": [
  {
   "cell_type": "markdown",
   "metadata": {
    "id": "KJqp9AANOCtf"
   },
   "source": [
    "<img src=\"https://raw.githubusercontent.com/andre-marcos-perez/ebac-course-utils/main/media/logo/newebac_logo_black_half.png\" alt=\"ebac-logo\">\n",
    "\n",
    "---\n",
    "\n",
    "# **Módulo** | Python: Programação Orientada a Objetos\n",
    "Caderno de **Exercícios**<br> \n",
    "Professor [André Perez](https://www.linkedin.com/in/andremarcosperez/)\n",
    "\n",
    "---"
   ]
  },
  {
   "cell_type": "markdown",
   "metadata": {
    "id": "d9jDtUbDOE1-"
   },
   "source": [
    "# **Tópicos**\n",
    "\n",
    "<ol type=\"1\">\n",
    "  <li>Um pouco de teoria;</li>\n",
    "  <li>Classes;</li>\n",
    "  <li>Objetos;</li>\n",
    "  <li>Herança.</li>\n",
    "</ol>"
   ]
  },
  {
   "cell_type": "markdown",
   "metadata": {
    "id": "SmoHgt-lwkpD"
   },
   "source": [
    "---"
   ]
  },
  {
   "cell_type": "markdown",
   "metadata": {
    "id": "GABI6OW8OfQ2"
   },
   "source": [
    "# **Exercícios**"
   ]
  },
  {
   "cell_type": "markdown",
   "metadata": {
    "id": "syVczIAwGO3A"
   },
   "source": [
    "## 0\\. Preparação do ambiente"
   ]
  },
  {
   "cell_type": "markdown",
   "metadata": {
    "id": "2X3TrxdzGO3C"
   },
   "source": [
    "Neste exercício vamos trabalhar com os arquivos de csv e texto definidos abaixo. Execute cada uma das células de código para escrever os arquivos na sua máquina virtual."
   ]
  },
  {
   "cell_type": "markdown",
   "metadata": {
    "id": "u0uFuhRSq_hQ"
   },
   "source": [
    "* **carros.csv**: arquivo csv com informações sobre carros (venda, manutenção, portas, etc.)."
   ]
  },
  {
   "cell_type": "code",
   "execution_count": 1,
   "metadata": {
    "colab": {
     "base_uri": "https://localhost:8080/"
    },
    "id": "daMf-xaXqKs2",
    "outputId": "3f668183-670a-472e-cb98-61a58af41e38"
   },
   "outputs": [
    {
     "name": "stdout",
     "output_type": "stream",
     "text": [
      "Writing carros.csv\n"
     ]
    }
   ],
   "source": [
    "%%writefile carros.csv\n",
    "id,valor_venda,valor_manutencao,portas,pessoas,porta_malas\n",
    "1,vhigh,med,2,2,small\n",
    "2,med,vhigh,2,2,small\n",
    "3,low,vhigh,2,2,small\n",
    "4,low,high,2,2,small\n",
    "5,low,high,2,2,small\n",
    "6,low,high,4,4,big\n",
    "7,low,high,4,4,big\n",
    "8,low,med,2,2,small\n",
    "9,low,med,2,2,small\n",
    "10,low,med,2,2,small\n",
    "11,low,med,4,4,big\n",
    "12,low,low,2,2,small\n",
    "13,low,low,4,4,small\n",
    "14,low,low,4,4,med"
   ]
  },
  {
   "cell_type": "markdown",
   "metadata": {
    "id": "X0Z2PhbCrTz1"
   },
   "source": [
    "* **musica.txt**: arquivo texto com a letra da música Roda Viva do Chico Buarque."
   ]
  },
  {
   "cell_type": "code",
   "execution_count": 2,
   "metadata": {
    "colab": {
     "base_uri": "https://localhost:8080/"
    },
    "id": "m7Ge2rggrU73",
    "outputId": "3e11f0a1-e945-40f3-dcde-a631db443172"
   },
   "outputs": [
    {
     "name": "stdout",
     "output_type": "stream",
     "text": [
      "Writing musica.txt\n"
     ]
    }
   ],
   "source": [
    "%%writefile musica.txt\n",
    "Roda Viva\n",
    "Chico Buarque\n",
    "\n",
    "Tem dias que a gente se sente\n",
    "Como quem partiu ou morreu\n",
    "A gente estancou de repente\n",
    "Ou foi o mundo então que cresceu\n",
    "A gente quer ter voz ativa\n",
    "No nosso destino mandar\n",
    "Mas eis que chega a roda viva\n",
    "E carrega o destino pra lá\n",
    "\n",
    "Roda mundo, roda-gigante\n",
    "Roda moinho, roda pião\n",
    "\n",
    "O tempo rodou num instante\n",
    "Nas voltas do meu coração\n",
    "A gente vai contra a corrente\n",
    "Até não poder resistir\n",
    "Na volta do barco é que sente\n",
    "O quanto deixou de cumprir\n",
    "Faz tempo que a gente cultiva\n",
    "A mais linda roseira que há\n",
    "Mas eis que chega a roda viva\n",
    "E carrega a roseira pra lá\n",
    "\n",
    "Roda mundo, roda-gigante\n",
    "Roda moinho, roda pião"
   ]
  },
  {
   "cell_type": "markdown",
   "metadata": {
    "id": "HV69LMAVGO3J"
   },
   "source": [
    "---"
   ]
  },
  {
   "cell_type": "markdown",
   "metadata": {
    "id": "U4S19ZvHsPcE"
   },
   "source": [
    "## 1\\. Classe para ler arquivos de texto"
   ]
  },
  {
   "cell_type": "markdown",
   "metadata": {
    "id": "HQrKGtoMGjf6"
   },
   "source": [
    "Crie a classe `ArquivoTexto`. Ela deve conter os seguintes atributos:\n",
    "\n",
    "*   `self.arquivo`: Atributo do tipo `str` com o nome do arquivo;\n",
    "*   `self.conteudo`: Atributo do tipo `list` onde cada elemento é uma linha do arquivo;\n",
    "\n",
    "A classe também deve conter o seguinte método:\n",
    "\n",
    "*   `self.extrair_linha`: Método que recebe como parâmetro o número da linha e retorna o seu conteúdo."
   ]
  },
  {
   "cell_type": "code",
   "execution_count": 1,
   "metadata": {
    "id": "9QFsOQ9ZGXUC"
   },
   "outputs": [],
   "source": [
    "class ArquivoTexto(object):\n",
    "\n",
    "  def __init__(self, arquivo: str, conteudo: list):\n",
    "    self.arquivo = arquivo\n",
    "    self.conteudo = conteudo\n",
    "      \n",
    "  def extrair_linha(self, numero_linha: int):\n",
    "        with open(file='./musica.txt', mode='r', encoding='utf8') as arquivo:\n",
    "            palavras_linha = []\n",
    "            linha = arquivo.readlines()[numero_linha]\n",
    "            palavras_linha.append(linha.split(sep=' '))\n",
    "            \n",
    "            return palavras_linha"
   ]
  },
  {
   "cell_type": "markdown",
   "metadata": {
    "id": "866OgsyHHw2M"
   },
   "source": [
    "Utilize o código abaixo para testar sua classe."
   ]
  },
  {
   "cell_type": "code",
   "execution_count": 2,
   "metadata": {
    "colab": {
     "base_uri": "https://localhost:8080/"
    },
    "id": "_HV_CE7CH8LO",
    "outputId": "5dac416d-293d-480b-d97e-4539ef849845"
   },
   "outputs": [
    {
     "name": "stdout",
     "output_type": "stream",
     "text": [
      "[['Chico', 'Buarque\\n']]\n",
      "[['E', 'carrega', 'o', 'destino', 'pra', 'lá\\n']]\n"
     ]
    }
   ],
   "source": [
    "arquivo_texto = ArquivoTexto(arquivo='musica.txt', conteudo = None)\n",
    "\n",
    "\n",
    "numero_linha = 1\n",
    "print(arquivo_texto.extrair_linha(numero_linha=numero_linha)) # Roda Viva\n",
    "\n",
    "numero_linha = 10\n",
    "print(arquivo_texto.extrair_linha(numero_linha=numero_linha)) # Mas eis que chega a roda viva"
   ]
  },
  {
   "cell_type": "markdown",
   "metadata": {
    "id": "zMN1Q3jdwoJm"
   },
   "source": [
    "---"
   ]
  },
  {
   "cell_type": "markdown",
   "metadata": {
    "id": "aQ8euzThIlLl"
   },
   "source": [
    "## 2\\. Classe para ler arquivos de csv"
   ]
  },
  {
   "cell_type": "markdown",
   "metadata": {
    "id": "EMWhvKAWIlL0"
   },
   "source": [
    "Crie a classe `ArquivoCSV`. Ela deve extender (herdar) a classe `ArquivoTexto` para reaproveitar os seus atributos (`self.arquivo` e `self.conteudo`) e método (`self.extrair_linha`). Além disso, adicione o seguinte atributo:\n",
    "\n",
    "*   `self.colunas`: Atributo do tipo `list` onde os elementos são os nome das colunas;\n",
    "\n",
    "A classe também deve conter o seguinte método:\n",
    "\n",
    "*   `self.extrair_coluna_da_linha`: Método que recebe como parâmetro o numero da linha e o indice da coluna e retorna o valor em questão."
   ]
  },
  {
   "cell_type": "code",
   "execution_count": 5,
   "metadata": {
    "id": "gpVvWodN3NLZ"
   },
   "outputs": [],
   "source": [
    "\n",
    "class ArquivoCSV(ArquivoTexto):\n",
    "\n",
    "\n",
    "  def __init__(self,arquivo: str):\n",
    "    super().__init__(arquivo=arquivo)\n",
    "    self.colunas = self.conteudo[0].split(',')\n",
    "\n",
    "\n",
    "  def extrair_coluna_da_linha(self, numero_linha: int, numero_coluna: int):\n",
    "    linha = self.extrair_linha(numero_linha).split(',')\n",
    "\n",
    "\n",
    "    return linha[numero_coluna]\n"
   ]
  },
  {
   "cell_type": "code",
   "execution_count": null,
   "metadata": {
    "id": "2r3mfEyYIlL0"
   },
   "outputs": [],
   "source": [
    "\n",
    " \n",
    " \n",
    " \n",
    " \n",
    "\n",
    "    \n",
    "   \n",
    "   "
   ]
  },
  {
   "cell_type": "markdown",
   "metadata": {
    "id": "jQm_hBETIlL1"
   },
   "source": [
    "Utilize o código abaixo para testar sua classe."
   ]
  },
  {
   "cell_type": "code",
   "execution_count": 6,
   "metadata": {
    "colab": {
     "base_uri": "https://localhost:8080/",
     "height": 254
    },
    "id": "GKSf1YbcIlL1",
    "outputId": "2fd6003a-c754-4fe9-84b2-bb41b93d12ba"
   },
   "outputs": [
    {
     "ename": "NameError",
     "evalue": "name 'conteudo' is not defined",
     "output_type": "error",
     "traceback": [
      "\u001b[0;31m---------------------------------------------------------------------------\u001b[0m",
      "\u001b[0;31mNameError\u001b[0m                                 Traceback (most recent call last)",
      "\u001b[0;32m<ipython-input-6-ca4e06e99b4a>\u001b[0m in \u001b[0;36m<module>\u001b[0;34m\u001b[0m\n\u001b[0;32m----> 1\u001b[0;31m \u001b[0marquivo_csv\u001b[0m \u001b[0;34m=\u001b[0m \u001b[0mArquivoCSV\u001b[0m\u001b[0;34m(\u001b[0m\u001b[0marquivo\u001b[0m\u001b[0;34m=\u001b[0m\u001b[0;34m'carros.csv'\u001b[0m\u001b[0;34m)\u001b[0m\u001b[0;34m\u001b[0m\u001b[0;34m\u001b[0m\u001b[0m\n\u001b[0m\u001b[1;32m      2\u001b[0m \u001b[0;34m\u001b[0m\u001b[0m\n\u001b[1;32m      3\u001b[0m \u001b[0mnumero_linha\u001b[0m \u001b[0;34m=\u001b[0m \u001b[0;36m1\u001b[0m\u001b[0;34m\u001b[0m\u001b[0;34m\u001b[0m\u001b[0m\n\u001b[1;32m      4\u001b[0m \u001b[0mprint\u001b[0m\u001b[0;34m(\u001b[0m\u001b[0marquivo_csv\u001b[0m\u001b[0;34m.\u001b[0m\u001b[0mextrair_linha\u001b[0m\u001b[0;34m(\u001b[0m\u001b[0mnumero_linha\u001b[0m\u001b[0;34m=\u001b[0m\u001b[0mnumero_linha\u001b[0m\u001b[0;34m)\u001b[0m\u001b[0;34m)\u001b[0m \u001b[0;31m# id,valor_venda,valor_manutencao,portas,pessoas,porta_malas\u001b[0m\u001b[0;34m\u001b[0m\u001b[0;34m\u001b[0m\u001b[0m\n\u001b[1;32m      5\u001b[0m \u001b[0;34m\u001b[0m\u001b[0m\n",
      "\u001b[0;32m<ipython-input-5-5df359eb532f>\u001b[0m in \u001b[0;36m__init__\u001b[0;34m(self, arquivo)\u001b[0m\n\u001b[1;32m      4\u001b[0m \u001b[0;34m\u001b[0m\u001b[0m\n\u001b[1;32m      5\u001b[0m   \u001b[0;32mdef\u001b[0m \u001b[0m__init__\u001b[0m\u001b[0;34m(\u001b[0m\u001b[0mself\u001b[0m\u001b[0;34m,\u001b[0m\u001b[0marquivo\u001b[0m\u001b[0;34m:\u001b[0m \u001b[0mstr\u001b[0m\u001b[0;34m)\u001b[0m\u001b[0;34m:\u001b[0m\u001b[0;34m\u001b[0m\u001b[0;34m\u001b[0m\u001b[0m\n\u001b[0;32m----> 6\u001b[0;31m     \u001b[0msuper\u001b[0m\u001b[0;34m(\u001b[0m\u001b[0;34m)\u001b[0m\u001b[0;34m.\u001b[0m\u001b[0m__init__\u001b[0m\u001b[0;34m(\u001b[0m\u001b[0marquivo\u001b[0m\u001b[0;34m=\u001b[0m\u001b[0marquivo\u001b[0m\u001b[0;34m,\u001b[0m\u001b[0mconteudo\u001b[0m\u001b[0;34m=\u001b[0m\u001b[0mconteudo\u001b[0m\u001b[0;34m)\u001b[0m\u001b[0;34m\u001b[0m\u001b[0;34m\u001b[0m\u001b[0m\n\u001b[0m\u001b[1;32m      7\u001b[0m     \u001b[0mself\u001b[0m\u001b[0;34m.\u001b[0m\u001b[0mcolunas\u001b[0m \u001b[0;34m=\u001b[0m \u001b[0mself\u001b[0m\u001b[0;34m.\u001b[0m\u001b[0mconteudo\u001b[0m\u001b[0;34m[\u001b[0m\u001b[0;36m0\u001b[0m\u001b[0;34m]\u001b[0m\u001b[0;34m.\u001b[0m\u001b[0msplit\u001b[0m\u001b[0;34m(\u001b[0m\u001b[0;34m','\u001b[0m\u001b[0;34m)\u001b[0m\u001b[0;34m\u001b[0m\u001b[0;34m\u001b[0m\u001b[0m\n\u001b[1;32m      8\u001b[0m \u001b[0;34m\u001b[0m\u001b[0m\n",
      "\u001b[0;31mNameError\u001b[0m: name 'conteudo' is not defined"
     ]
    }
   ],
   "source": [
    "arquivo_csv = ArquivoCSV(arquivo='carros.csv')\n",
    "\n",
    "numero_linha = 1\n",
    "print(arquivo_csv.extrair_linha(numero_linha=numero_linha)) # id,valor_venda,valor_manutencao,portas,pessoas,porta_malas\n",
    "\n",
    "\n",
    "numero_linha = 10\n",
    "print(arquivo_csv.extrair_linha(numero_linha=numero_linha)) # 9,low,med,2,2,small\n",
    "\n",
    "numero_linha = 10\n",
    "numero_coluna = 2\n",
    "print(arquivo_csv.extrair_coluna_da_linha(numero_linha=numero_linha, numero_coluna=numero_coluna)) # low"
   ]
  },
  {
   "cell_type": "markdown",
   "metadata": {
    "id": "78xH4bWUIlL2"
   },
   "source": [
    "---"
   ]
  },
  {
   "cell_type": "code",
   "execution_count": null,
   "metadata": {
    "id": "OFxddDXptnZV"
   },
   "outputs": [],
   "source": []
  },
  {
   "cell_type": "code",
   "execution_count": null,
   "metadata": {},
   "outputs": [],
   "source": []
  }
 ],
 "metadata": {
  "colab": {
   "collapsed_sections": [],
   "name": "modulo_6_exercicios_rafael_fantini.ipynb",
   "provenance": []
  },
  "kernelspec": {
   "display_name": "Python 3",
   "language": "python",
   "name": "python3"
  },
  "language_info": {
   "codemirror_mode": {
    "name": "ipython",
    "version": 3
   },
   "file_extension": ".py",
   "mimetype": "text/x-python",
   "name": "python",
   "nbconvert_exporter": "python",
   "pygments_lexer": "ipython3",
   "version": "3.7.3"
  }
 },
 "nbformat": 4,
 "nbformat_minor": 1
}
